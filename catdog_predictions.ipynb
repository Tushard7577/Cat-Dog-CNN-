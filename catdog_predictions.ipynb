{
 "cells": [
  {
   "cell_type": "code",
   "execution_count": 7,
   "id": "f6d6e094",
   "metadata": {},
   "outputs": [],
   "source": [
    "from tensorflow.keras.models import load_model"
   ]
  },
  {
   "cell_type": "code",
   "execution_count": 8,
   "id": "a019a727",
   "metadata": {},
   "outputs": [],
   "source": [
    "model = load_model('dsml25_cat_dog.h5')"
   ]
  },
  {
   "cell_type": "code",
   "execution_count": 9,
   "id": "5743c253",
   "metadata": {},
   "outputs": [],
   "source": [
    "import cv2 \n",
    "def get_animal(path):\n",
    "    A = cv2.imread(path) # color\n",
    "    A = cv2.resize(A,(224,224))\n",
    "    A = A/255\n",
    "    A = A.reshape(1,224,224,3)\n",
    "    return model.predict_on_batch(A).argmax() # 0-cat, 1-dog"
   ]
  },
  {
   "cell_type": "code",
   "execution_count": 10,
   "id": "7930c262",
   "metadata": {},
   "outputs": [
    {
     "name": "stdout",
     "output_type": "stream",
     "text": [
      "../../datasets/cats_and_dogs/c1.jpeg\n",
      "../../datasets/cats_and_dogs/c2.jpeg\n",
      "../../datasets/cats_and_dogs/c3.jpeg\n",
      "../../datasets/cats_and_dogs/d1.jpeg\n",
      "../../datasets/cats_and_dogs/d2.jpeg\n",
      "../../datasets/cats_and_dogs/d3.jpeg\n"
     ]
    }
   ],
   "source": [
    "import os\n",
    "for img in os.listdir('../../datasets/cat vs dog/'):\n",
    "    print('../../datasets/cats_and_dogs/'+img)"
   ]
  },
  {
   "cell_type": "code",
   "execution_count": 11,
   "id": "734ebacc",
   "metadata": {},
   "outputs": [
    {
     "name": "stdout",
     "output_type": "stream",
     "text": [
      "c1.jpeg \t 0\n",
      "c2.jpeg \t 0\n",
      "c3.jpeg \t 0\n",
      "d1.jpeg \t 0\n",
      "d2.jpeg \t 1\n",
      "d3.jpeg \t 0\n"
     ]
    }
   ],
   "source": [
    "for img in os.listdir('../../datasets/cat vs dog/'):\n",
    "    y = get_animal('../../datasets/cat vs dog/'+img)\n",
    "    print(img,'\\t',y)"
   ]
  },
  {
   "cell_type": "code",
   "execution_count": null,
   "id": "8dcf2d8b",
   "metadata": {},
   "outputs": [],
   "source": []
  }
 ],
 "metadata": {
  "kernelspec": {
   "display_name": "Python 3 (ipykernel)",
   "language": "python",
   "name": "python3"
  },
  "language_info": {
   "codemirror_mode": {
    "name": "ipython",
    "version": 3
   },
   "file_extension": ".py",
   "mimetype": "text/x-python",
   "name": "python",
   "nbconvert_exporter": "python",
   "pygments_lexer": "ipython3",
   "version": "3.11.5"
  }
 },
 "nbformat": 4,
 "nbformat_minor": 5
}
